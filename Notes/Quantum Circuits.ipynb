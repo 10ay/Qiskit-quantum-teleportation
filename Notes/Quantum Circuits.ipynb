{
 "cells": [
  {
   "cell_type": "code",
   "execution_count": 2,
   "id": "f783e6c2",
   "metadata": {},
   "outputs": [],
   "source": [
    "from qiskit import QuantumCircuit\n",
    "from qiskit.circuit import Gate\n",
    "from math import pi\n",
    "qc = QuantumCircuit(2)\n",
    "c=0\n",
    "t=1"
   ]
  },
  {
   "cell_type": "markdown",
   "id": "c743e5df",
   "metadata": {},
   "source": [
    "# Making a Controlled-Z from a CNOT\n",
    "\n",
    "The controllex-z or cz gate is another well-used two-qubit gate. Just as the CNOT applies an X to its target qubit whenever its control is in state $|1\\rangle$, the controlled-Z applies a Z in the same case "
   ]
  },
  {
   "cell_type": "code",
   "execution_count": 3,
   "id": "e429004d",
   "metadata": {},
   "outputs": [
    {
     "data": {
      "text/html": [
       "<pre style=\"word-wrap: normal;white-space: pre;background: #fff0;line-height: 1.1;font-family: &quot;Courier New&quot;,Courier,monospace\">        \n",
       "q_0: ─■─\n",
       "      │ \n",
       "q_1: ─■─\n",
       "        </pre>"
      ],
      "text/plain": [
       "        \n",
       "q_0: ─■─\n",
       "      │ \n",
       "q_1: ─■─\n",
       "        "
      ]
     },
     "execution_count": 3,
     "metadata": {},
     "output_type": "execute_result"
    }
   ],
   "source": [
    "qc.cz(c,t)\n",
    "qc.draw()"
   ]
  },
  {
   "cell_type": "markdown",
   "id": "0f82a268",
   "metadata": {},
   "source": [
    "where c and t are the control and target qubits. In IBM Q devices, however, the only kind of two-qubit gate that can be directly applied is the CNOT. We therefore need a way to transform one to the other. \n",
    "\n",
    "The process for this is quite simple. We know Hadamard transforms the states $|0\\rangle$ and $|1\\rangle$ to $|+\\rangle$ and $|-\\rangle$ respectively. We also know that the effect of the Z gate on the states $|+\\rangle$ and $|-\\rangle$ is the same as that for X on the states $|0\\rangle$ and $|1\\rangle$ respectively.\n",
    "\n",
    "So \n",
    "\n",
    "$HXH = Z$\n",
    "\n",
    "and\n",
    "\n",
    "$HZH = X$"
   ]
  },
  {
   "cell_type": "code",
   "execution_count": 4,
   "id": "cd1c72ed",
   "metadata": {},
   "outputs": [
    {
     "data": {
      "text/html": [
       "<pre style=\"word-wrap: normal;white-space: pre;background: #fff0;line-height: 1.1;font-family: &quot;Courier New&quot;,Courier,monospace\">                    \n",
       "q_0: ───────■───────\n",
       "     ┌───┐┌─┴─┐┌───┐\n",
       "q_1: ┤ H ├┤ X ├┤ H ├\n",
       "     └───┘└───┘└───┘</pre>"
      ],
      "text/plain": [
       "                    \n",
       "q_0: ───────■───────\n",
       "     ┌───┐┌─┴─┐┌───┐\n",
       "q_1: ┤ H ├┤ X ├┤ H ├\n",
       "     └───┘└───┘└───┘"
      ]
     },
     "execution_count": 4,
     "metadata": {},
     "output_type": "execute_result"
    }
   ],
   "source": [
    "qc = QuantumCircuit(2)\n",
    "# also a controlled-Z\n",
    "qc.h(t)\n",
    "qc.cx(c,t)\n",
    "qc.h(t)\n",
    "qc.draw()"
   ]
  },
  {
   "cell_type": "markdown",
   "id": "73e2564f",
   "metadata": {},
   "source": [
    "More generally, we can transform a single CNOT into a controlled version of any rotation around the Bloch sphere by an angle $\\pi$, by simply preceding and following it with the correct rotations. \n",
    "\n",
    "For instance, the controlled-Y gate:"
   ]
  },
  {
   "cell_type": "code",
   "execution_count": 6,
   "id": "e9ef6dfd",
   "metadata": {},
   "outputs": [
    {
     "data": {
      "text/html": [
       "<pre style=\"word-wrap: normal;white-space: pre;background: #fff0;line-height: 1.1;font-family: &quot;Courier New&quot;,Courier,monospace\">                      \n",
       "q_0: ─────────■───────\n",
       "     ┌─────┐┌─┴─┐┌───┐\n",
       "q_1: ┤ Sdg ├┤ X ├┤ S ├\n",
       "     └─────┘└───┘└───┘</pre>"
      ],
      "text/plain": [
       "                      \n",
       "q_0: ─────────■───────\n",
       "     ┌─────┐┌─┴─┐┌───┐\n",
       "q_1: ┤ Sdg ├┤ X ├┤ S ├\n",
       "     └─────┘└───┘└───┘"
      ]
     },
     "execution_count": 6,
     "metadata": {},
     "output_type": "execute_result"
    }
   ],
   "source": [
    "qc = QuantumCircuit(2)\n",
    "# a controlled-Y\n",
    "qc.sdg(t)\n",
    "qc.cx(c,t)\n",
    "qc.s(t)\n",
    "qc.draw()"
   ]
  },
  {
   "cell_type": "markdown",
   "id": "97ee1842",
   "metadata": {},
   "source": [
    "Controlled-H"
   ]
  },
  {
   "cell_type": "code",
   "execution_count": 8,
   "id": "f25379e6",
   "metadata": {},
   "outputs": [
    {
     "data": {
      "text/html": [
       "<pre style=\"word-wrap: normal;white-space: pre;background: #fff0;line-height: 1.1;font-family: &quot;Courier New&quot;,Courier,monospace\">                                 \n",
       "q_0: ─────────────■──────────────\n",
       "     ┌─────────┐┌─┴─┐┌──────────┐\n",
       "q_1: ┤ Ry(π/4) ├┤ X ├┤ Ry(-π/4) ├\n",
       "     └─────────┘└───┘└──────────┘</pre>"
      ],
      "text/plain": [
       "                                 \n",
       "q_0: ─────────────■──────────────\n",
       "     ┌─────────┐┌─┴─┐┌──────────┐\n",
       "q_1: ┤ Ry(π/4) ├┤ X ├┤ Ry(-π/4) ├\n",
       "     └─────────┘└───┘└──────────┘"
      ]
     },
     "execution_count": 8,
     "metadata": {},
     "output_type": "execute_result"
    }
   ],
   "source": [
    "qc = QuantumCircuit(2)\n",
    "# a controlled-H\n",
    "qc.ry(pi/4,t)\n",
    "qc.cx(c,t)\n",
    "qc.ry(-pi/4,t)\n",
    "qc.draw()"
   ]
  },
  {
   "cell_type": "markdown",
   "id": "e71d7d06",
   "metadata": {},
   "source": [
    "# Swapping Qubits\n",
    "\n",
    "Sometimes we need to move information around in a quantum computer. For some qubit implementations, this could be done by physically moving them. Another option is simply to move the state between two qubits. This is done by the SWAP gate.\n",
    "\n"
   ]
  },
  {
   "cell_type": "code",
   "execution_count": 9,
   "id": "5b94d842",
   "metadata": {},
   "outputs": [
    {
     "data": {
      "text/html": [
       "<pre style=\"word-wrap: normal;white-space: pre;background: #fff0;line-height: 1.1;font-family: &quot;Courier New&quot;,Courier,monospace\">        \n",
       "q_0: ─X─\n",
       "      │ \n",
       "q_1: ─X─\n",
       "        </pre>"
      ],
      "text/plain": [
       "        \n",
       "q_0: ─X─\n",
       "      │ \n",
       "q_1: ─X─\n",
       "        "
      ]
     },
     "execution_count": 9,
     "metadata": {},
     "output_type": "execute_result"
    }
   ],
   "source": [
    "a = 0\n",
    "b = 1\n",
    "\n",
    "\n",
    "qc = QuantumCircuit(2)\n",
    "# swaps states of qubits a and b\n",
    "qc.swap(a,b)\n",
    "qc.draw()"
   ]
  },
  {
   "cell_type": "code",
   "execution_count": 11,
   "id": "dd93213c",
   "metadata": {},
   "outputs": [
    {
     "data": {
      "text/html": [
       "<pre style=\"word-wrap: normal;white-space: pre;background: #fff0;line-height: 1.1;font-family: &quot;Courier New&quot;,Courier,monospace\">          ┌───┐\n",
       "q_0: ──■──┤ X ├\n",
       "     ┌─┴─┐└─┬─┘\n",
       "q_1: ┤ X ├──■──\n",
       "     └───┘     </pre>"
      ],
      "text/plain": [
       "          ┌───┐\n",
       "q_0: ──■──┤ X ├\n",
       "     ┌─┴─┐└─┬─┘\n",
       "q_1: ┤ X ├──■──\n",
       "     └───┘     "
      ]
     },
     "execution_count": 11,
     "metadata": {},
     "output_type": "execute_result"
    }
   ],
   "source": [
    "qc = QuantumCircuit(2)\n",
    "# swap a 1 from a to b\n",
    "qc.cx(a,b) # copies 1 from a to b\n",
    "qc.cx(b,a) # uses the 1 on b to rotate the state of a to 0\n",
    "qc.draw()"
   ]
  },
  {
   "cell_type": "markdown",
   "id": "09f0e9f5",
   "metadata": {},
   "source": [
    "This has the effect of ptting qubit b in the state $|1\\rangle$ and qubit a in the state $|0\\rangle$. In this case at least, we have done a SWAP.\n",
    "\n",
    "Now let's take this state and SWAP back to the original one. As you may have guessed, we can do this with the reverse of the above process:\n",
    "\n"
   ]
  },
  {
   "cell_type": "code",
   "execution_count": 13,
   "id": "1afb2693",
   "metadata": {},
   "outputs": [
    {
     "data": {
      "text/html": [
       "<pre style=\"word-wrap: normal;white-space: pre;background: #fff0;line-height: 1.1;font-family: &quot;Courier New&quot;,Courier,monospace\">          ┌───┐┌───┐     ┌───┐     \n",
       "q_0: ──■──┤ X ├┤ X ├──■──┤ X ├──■──\n",
       "     ┌─┴─┐└─┬─┘└─┬─┘┌─┴─┐└─┬─┘┌─┴─┐\n",
       "q_1: ┤ X ├──■────■──┤ X ├──■──┤ X ├\n",
       "     └───┘          └───┘     └───┘</pre>"
      ],
      "text/plain": [
       "          ┌───┐┌───┐     ┌───┐     \n",
       "q_0: ──■──┤ X ├┤ X ├──■──┤ X ├──■──\n",
       "     ┌─┴─┐└─┬─┘└─┬─┘┌─┴─┐└─┬─┘┌─┴─┐\n",
       "q_1: ┤ X ├──■────■──┤ X ├──■──┤ X ├\n",
       "     └───┘          └───┘     └───┘"
      ]
     },
     "execution_count": 13,
     "metadata": {},
     "output_type": "execute_result"
    }
   ],
   "source": [
    "\n",
    "\n",
    "# swap a q from b to a\n",
    "qc.cx(b,a) # copies 1 from b to a\n",
    "qc.cx(a,b) # uses the 1 on a to rotate the state of b to 0\n",
    "qc.draw()"
   ]
  },
  {
   "cell_type": "markdown",
   "id": "457c1cdb",
   "metadata": {},
   "source": [
    "Read More Circit Identities(2.4) for more"
   ]
  },
  {
   "cell_type": "markdown",
   "id": "60ecc8ee",
   "metadata": {},
   "source": [
    "# The Toffoli\n",
    "\n",
    "The Toffoli gate is a three qubit gate with two controls and one target. it performs an X on the target only if both controles are in state $|1\\rangle$. The final state of the target is then equal to etiher the AND or the NAND of the two controls, depending on whether the initial state was $|0\\rangle$ or $|1\\rangle$\n",
    "\n",
    "A Toffoli can also be thought of as a controlled-controlled-NOT, and is also called the CCX gate."
   ]
  },
  {
   "cell_type": "code",
   "execution_count": 17,
   "id": "d27b8bb7",
   "metadata": {},
   "outputs": [
    {
     "data": {
      "text/html": [
       "<pre style=\"word-wrap: normal;white-space: pre;background: #fff0;line-height: 1.1;font-family: &quot;Courier New&quot;,Courier,monospace\">          \n",
       "q_0: ──■──\n",
       "       │  \n",
       "q_1: ──■──\n",
       "     ┌─┴─┐\n",
       "q_2: ┤ X ├\n",
       "     └───┘</pre>"
      ],
      "text/plain": [
       "          \n",
       "q_0: ──■──\n",
       "       │  \n",
       "q_1: ──■──\n",
       "     ┌─┴─┐\n",
       "q_2: ┤ X ├\n",
       "     └───┘"
      ]
     },
     "execution_count": 17,
     "metadata": {},
     "output_type": "execute_result"
    }
   ],
   "source": [
    "qc = QuantumCircuit(3)\n",
    "a = 0\n",
    "b = 1\n",
    "t = 2\n",
    "# Toffoli with control qubits a and b and target t\n",
    "qc.ccx(a,b,t)\n",
    "qc.draw()"
   ]
  },
  {
   "cell_type": "markdown",
   "id": "9ef157a5",
   "metadata": {},
   "source": [
    "<img src = t1.png />\n",
    "<img src = t2.png />\n",
    "<img src = t3.png />"
   ]
  },
  {
   "cell_type": "markdown",
   "id": "70871124",
   "metadata": {},
   "source": [
    " Read Section 5 of 2.4"
   ]
  },
  {
   "cell_type": "code",
   "execution_count": null,
   "id": "9f735358",
   "metadata": {},
   "outputs": [],
   "source": []
  }
 ],
 "metadata": {
  "kernelspec": {
   "display_name": "Python 3",
   "language": "python",
   "name": "python3"
  },
  "language_info": {
   "codemirror_mode": {
    "name": "ipython",
    "version": 3
   },
   "file_extension": ".py",
   "mimetype": "text/x-python",
   "name": "python",
   "nbconvert_exporter": "python",
   "pygments_lexer": "ipython3",
   "version": "3.8.8"
  }
 },
 "nbformat": 4,
 "nbformat_minor": 5
}
