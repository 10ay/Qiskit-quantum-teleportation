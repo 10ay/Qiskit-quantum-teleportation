{
 "cells": [
  {
   "cell_type": "markdown",
   "id": "604de4d3",
   "metadata": {},
   "source": [
    "# Proving Universality"
   ]
  },
  {
   "cell_type": "markdown",
   "id": "06abffc5",
   "metadata": {},
   "source": [
    "### Matrices as outer products.\n",
    "\n",
    "<img src=outerp.png width = 500/>"
   ]
  },
  {
   "cell_type": "markdown",
   "id": "4b72ba63",
   "metadata": {},
   "source": [
    "### Unitary and Hermitian Matrices\n",
    "\n",
    "Hermitian Conjugate $M^\\dagger$ of a matrix $M$ is the combination of the transpose and the complex conjugate of each element. Two families of matrices that are very important to quantum computing are defined by their relationship with the Hermitian conjugate. One is the family of unitary matrices, for which\n",
    "\n",
    "<center>\n",
    "    $UU^\\dagger=U^\\dagger U=I$\n",
    "    </center>\n",
    "    \n",
    "This means that the Hermitian conjugate of a unitary is its inverse. All gates in quantum computing, with the exception of measurement and reset operations, can be represented by unitary matrices. Unitary matrices also preserve the inner product. \n",
    "\n",
    "<img src = uni.png  width = 350 />\n",
    "\n",
    "This property provides us with a useful way of thinking about these gates. It means that for any set of states $\\{|\\psi_j\\rangle\\}$ that provides an orthonormal basis for our system, the set of states $\\{|\\phi_j\\rangle\\}=\\{U|\\psi_j\\rangle\\}$\n",
    "\n",
    "The unitary can then be thought of as a rotation between these bases. \n",
    "\n",
    "<img src = rotun.png width = 200 />\n",
    "\n",
    "The other important family of matrices are the Hermitian matrices. Those that are unaffected by the Hermitian conjugate. \n",
    "\n",
    "<center>\n",
    "    $H = U^\\dagger$\n",
    "    </center>\n",
    "    \n",
    "    \n",
    "The matrices X, Y, Z and H are examples of Hermitian matrices. All unitary matrices and Hermitian matrices have the property of being diagonalizable. This means they can be written in the form:\n",
    "\n",
    "$ M = \\sum\\limits _{j} = \\lambda_j|h_j\\rangle\\langle h_j|$ where the $\\lambda_j$ are the eigenvalues of the matrix and $|h_j\\rangle$ are the corresponding eigenstates.\n",
    "\n",
    "For unitaries, applying the $UU\\dagger = I$ condition in this diagonal form implies that $\\lambda_j\\lambda_j^*=1$. The eigenvalues are therefore always complex numbers of magnitude 1, and so can be expressed $e^ih_j$ for some real value $h_j$. For hermitian matrices, $\\lambda_j=\\lambda_j^*$\n",
    "\n",
    "These two types of matrices therefore differ only in that one must have real numbers for eigenvalues, and the other must have complex exponentials of real numbers. This means that, for every unitary, we can define a corresponding Hermitian matrix. For this we simply reuse the same eiggenstates, and use the $h_j$ from each $e^ih_j$ as the corresponding eigenvalue.\n",
    "\n",
    "Similarly, for each Hermitian matrix there exists a unitary. We simply reuse the same eigenstates, and exponentiate the $h_j$ to create the eigenvalues $e^ih_j$. This can be expressed as:\n",
    "\n",
    "<center>\n",
    "$U = e^{iH}$\n",
    "    </center>\n",
    "\n",
    "\n",
    "### Pauli Decomposition\n",
    "\n",
    "<img src = Pauli.png/>"
   ]
  },
  {
   "cell_type": "markdown",
   "id": "24416432",
   "metadata": {},
   "source": [
    "# Defining Universality\n",
    "\n",
    "We can describe an entire quantum computation by a unitary operation. If we were able to implement any possible unitary, it would therefore mean we could achieve universality in the sense of standard digital computers.\n",
    "\n",
    "Combining these insights we can define what it means for quantum computers to be universal. It is simply the ability to achieve any desired unitary on any arbitrary number of qubits. If we have this, we know that we can reproduce anything a digital computer can do, simulate any quantum system, and do everything else that is possible for a quantum computer.\n",
    "\n"
   ]
  },
  {
   "cell_type": "markdown",
   "id": "ef9bfee3",
   "metadata": {},
   "source": [
    "# Basic Gate Sets\n",
    "(read IBM)\n"
   ]
  }
 ],
 "metadata": {
  "kernelspec": {
   "display_name": "Python 3",
   "language": "python",
   "name": "python3"
  },
  "language_info": {
   "codemirror_mode": {
    "name": "ipython",
    "version": 3
   },
   "file_extension": ".py",
   "mimetype": "text/x-python",
   "name": "python",
   "nbconvert_exporter": "python",
   "pygments_lexer": "ipython3",
   "version": "3.8.8"
  }
 },
 "nbformat": 4,
 "nbformat_minor": 5
}
