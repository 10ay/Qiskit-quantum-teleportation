{
 "cells": [
  {
   "cell_type": "markdown",
   "id": "bcfb7b7f",
   "metadata": {},
   "source": [
    "# Representing Multi-Qubit States\n",
    "\n",
    "We saw that a single bit has two possible states and a qubit state has two complex amplitudes. Siimilarly, two bits have four possible states:\n",
    "\n",
    "00, 01, 10, 11.\n",
    "\n",
    "And to describe that state of two qubits requires four complex amplitudes. We store these amplitudes in a 4D-vector.\n",
    "\n",
    "$|a\\rangle = a_{00}|00\\rangle + a_{01}|01\\rangle + a_{10}|10+a_{11}|11\\rangle = \\begin{bmatrix} a_{00} \\\\ a_{01} \\\\ a_{10} \\\\ a_{11}\\end{bmatrix}$\n",
    "\n",
    "The vector above is normalized.\n",
    "\n",
    "The rules of measurement still work in the same way:\n",
    "\n",
    "$p(|00\\rangle) =|\\langle00|a\\rangle|^2=|a_{00}|^2$\n",
    "\n",
    "If we have two seperated qubits, we can describe their collective state using the kronecker product:\n",
    "\n",
    "\n",
    "<img src=\"qubitm.png\" width = 400 />\n",
    "\n",
    "If we have n qubits, we will have to keep track of $2^n$ complex amplitudes. These vectors grow exponentially with the number of qubits. This is the reason quantum computers with large numbers of qubits are so difficult to simulate. A modern laptop can easily simulate a general quantum state of arond 20 qubits, but simulating 100 qubits is too difficult even for the largest supercomputers. "
   ]
  },
  {
   "cell_type": "code",
   "execution_count": 1,
   "id": "52dcd3e6",
   "metadata": {},
   "outputs": [],
   "source": [
    "from qiskit import QuantumCircuit, Aer, assemble\n",
    "import numpy as np\n",
    "from qiskit.visualization import plot_histogram, plot_bloch_multivector, array_to_latex"
   ]
  },
  {
   "cell_type": "code",
   "execution_count": 2,
   "id": "c5b8a3fd",
   "metadata": {},
   "outputs": [
    {
     "data": {
      "text/html": [
       "<pre style=\"word-wrap: normal;white-space: pre;background: #fff0;line-height: 1.1;font-family: &quot;Courier New&quot;,Courier,monospace\">     ┌───┐\n",
       "q_0: ┤ H ├\n",
       "     ├───┤\n",
       "q_1: ┤ H ├\n",
       "     ├───┤\n",
       "q_2: ┤ H ├\n",
       "     └───┘</pre>"
      ],
      "text/plain": [
       "     ┌───┐\n",
       "q_0: ┤ H ├\n",
       "     ├───┤\n",
       "q_1: ┤ H ├\n",
       "     ├───┤\n",
       "q_2: ┤ H ├\n",
       "     └───┘"
      ]
     },
     "execution_count": 2,
     "metadata": {},
     "output_type": "execute_result"
    }
   ],
   "source": [
    "qc = QuantumCircuit(3)\n",
    "\n",
    "for qubit in range(3):\n",
    "    qc.h(qubit) #Hadamard gate\n",
    "qc.draw()\n"
   ]
  },
  {
   "cell_type": "markdown",
   "id": "e9c799f8",
   "metadata": {},
   "source": [
    "Each qubit is in the state $|+\\rangle$ since $H|0\\rangle=|+\\rangle$\n",
    "\n",
    "The collective state of the three $|+\\rangle$ gates is thus:\n",
    "\n",
    "<img src=\"hadabard.png\" width = 200 />"
   ]
  },
  {
   "cell_type": "code",
   "execution_count": 3,
   "id": "aa6b900b",
   "metadata": {},
   "outputs": [
    {
     "data": {
      "text/latex": [
       "$$\n",
       "\\text{Statevector} = \n",
       "\\begin{bmatrix}\n",
       "\\frac{\\sqrt{2}}{4} & \\frac{\\sqrt{2}}{4} & \\frac{\\sqrt{2}}{4} & \\frac{\\sqrt{2}}{4} & \\frac{\\sqrt{2}}{4} & \\frac{\\sqrt{2}}{4} & \\frac{\\sqrt{2}}{4} & \\frac{\\sqrt{2}}{4}  \\\\\n",
       " \\end{bmatrix}\n",
       "$$"
      ],
      "text/plain": [
       "<IPython.core.display.Latex object>"
      ]
     },
     "execution_count": 3,
     "metadata": {},
     "output_type": "execute_result"
    }
   ],
   "source": [
    "svsim = Aer.get_backend('aer_simulator')\n",
    "qc.save_statevector()\n",
    "qobj = assemble(qc)\n",
    "final_state = svsim.run(qobj).result().get_statevector()\n",
    "\n",
    "# In Jupyter Notebooks we can display this nicely using Latex.\n",
    "# If not using Jupyter Notebooks you may need to remove the \n",
    "# array_to_latex function and use print(final_state) instead.\n",
    "from qiskit.visualization import array_to_latex\n",
    "array_to_latex(final_state, prefix=\"\\\\text{Statevector} = \")"
   ]
  },
  {
   "cell_type": "markdown",
   "id": "a31d6887",
   "metadata": {},
   "source": [
    "# Single Qubit Gates on Multi-Qubit Statevectors\n",
    "\n",
    "<img src=xgate.png width = 500/>"
   ]
  },
  {
   "cell_type": "code",
   "execution_count": 49,
   "id": "67a52c18",
   "metadata": {},
   "outputs": [
    {
     "data": {
      "text/html": [
       "<pre style=\"word-wrap: normal;white-space: pre;background: #fff0;line-height: 1.1;font-family: &quot;Courier New&quot;,Courier,monospace\">     ┌───┐\n",
       "q_0: ┤ H ├\n",
       "     ├───┤\n",
       "q_1: ┤ X ├\n",
       "     └───┘</pre>"
      ],
      "text/plain": [
       "     ┌───┐\n",
       "q_0: ┤ H ├\n",
       "     ├───┤\n",
       "q_1: ┤ X ├\n",
       "     └───┘"
      ]
     },
     "execution_count": 49,
     "metadata": {},
     "output_type": "execute_result"
    }
   ],
   "source": [
    "qc2 = QuantumCircuit(2)\n",
    "qc2.h(0)\n",
    "qc2.x(1)\n",
    "qc2.draw()"
   ]
  },
  {
   "cell_type": "markdown",
   "id": "28998484",
   "metadata": {},
   "source": [
    "We can represent the simultaneous operations using their kronceker product:\n",
    "\n",
    "$X|q_1\\rangle \\otimes H|q_0\\rangle = (X \\otimes H)|q_1q_0\\rangle$\n",
    "\n",
    "<img src = multigate.png width = 400/>\n",
    "\n"
   ]
  },
  {
   "cell_type": "code",
   "execution_count": null,
   "id": "72675d23",
   "metadata": {},
   "outputs": [],
   "source": [
    "usim = Aer.get_backend('aer_simulator')\n",
    "qc2.save_unitary()\n",
    "qobj = assemble(qc2)\n",
    "unitary = usim.run(qobj).result().get_unitary()"
   ]
  },
  {
   "cell_type": "code",
   "execution_count": null,
   "id": "a51c35cf",
   "metadata": {},
   "outputs": [],
   "source": [
    "qc.draw()"
   ]
  },
  {
   "cell_type": "code",
   "execution_count": null,
   "id": "c175aeea",
   "metadata": {},
   "outputs": [],
   "source": [
    "print(unitary) #Array to latex not working"
   ]
  },
  {
   "cell_type": "code",
   "execution_count": null,
   "id": "5129ed3e",
   "metadata": {},
   "outputs": [],
   "source": [
    "qc = QuantumCircuit(2)\n",
    "qc.x(1)\n",
    "qc.draw()"
   ]
  },
  {
   "cell_type": "code",
   "execution_count": null,
   "id": "30a6d515",
   "metadata": {},
   "outputs": [],
   "source": [
    "# Simulate the unitary\n",
    "usim = Aer.get_backend('aer_simulator')\n",
    "qc.save_unitary()\n",
    "qobj = assemble(qc)\n",
    "unitary = usim.run(qobj).result().get_unitary()\n",
    "# Display the results:\n",
    "print(unitary)"
   ]
  },
  {
   "cell_type": "code",
   "execution_count": null,
   "id": "ddd884f7",
   "metadata": {},
   "outputs": [],
   "source": [
    "qc = QuantumCircuit(2)\n",
    "qc.x(1)\n",
    "qc.draw()"
   ]
  },
  {
   "cell_type": "markdown",
   "id": "0a74046c",
   "metadata": {},
   "source": [
    "If we want to apply a gate to only one qubit at a time, we describe this using kronecker product with the identity matrix"
   ]
  },
  {
   "cell_type": "code",
   "execution_count": null,
   "id": "66f4b499",
   "metadata": {},
   "outputs": [],
   "source": [
    "# Simulate the unitary\n",
    "usim = Aer.get_backend('aer_simulator')\n",
    "qc.save_unitary()\n",
    "qobj = assemble(qc)\n",
    "unitary = usim.run(qobj).result().get_unitary()\n",
    "# Display the results:\n",
    "print(unitary)"
   ]
  },
  {
   "cell_type": "markdown",
   "id": "ced759ac",
   "metadata": {},
   "source": [
    "# Multi-Qubit Gates\n",
    "\n",
    "## The CNOT Gate\n",
    "\n",
    "This is the conditional gate that performs an X-gate on the second qubit if the state of the first qubit (control) is $|1\\rangle$"
   ]
  },
  {
   "cell_type": "code",
   "execution_count": null,
   "id": "b7451587",
   "metadata": {},
   "outputs": [],
   "source": [
    "qc = QuantumCircuit(2)\n",
    "qc.cx(0, 1)\n",
    "qc.draw()"
   ]
  },
  {
   "cell_type": "markdown",
   "id": "11d5b38d",
   "metadata": {},
   "source": [
    "When our qbits are classical bits, it is very easy to understand. But what our multiple qubits?\n",
    "\n",
    "<img src = cnots.png width =500/>"
   ]
  },
  {
   "cell_type": "code",
   "execution_count": 35,
   "id": "9105df18",
   "metadata": {},
   "outputs": [
    {
     "data": {
      "text/html": [
       "<pre style=\"word-wrap: normal;white-space: pre;background: #fff0;line-height: 1.1;font-family: &quot;Courier New&quot;,Courier,monospace\">     ┌───┐\n",
       "q_0: ┤ H ├\n",
       "     └───┘\n",
       "q_1: ─────\n",
       "          </pre>"
      ],
      "text/plain": [
       "     ┌───┐\n",
       "q_0: ┤ H ├\n",
       "     └───┘\n",
       "q_1: ─────\n",
       "          "
      ]
     },
     "execution_count": 35,
     "metadata": {},
     "output_type": "execute_result"
    }
   ],
   "source": [
    "qc = QuantumCircuit(2)\n",
    "qc.h(0)\n",
    "qc.draw()"
   ]
  },
  {
   "cell_type": "code",
   "execution_count": 36,
   "id": "8029b6c1",
   "metadata": {},
   "outputs": [
    {
     "name": "stdout",
     "output_type": "stream",
     "text": [
      "Statevector([0.70710678+0.j, 0.70710678+0.j, 0.        +0.j,\n",
      "             0.        +0.j],\n",
      "            dims=(2, 2))\n"
     ]
    }
   ],
   "source": [
    "svsim = Aer.get_backend('aer_simulator')\n",
    "qc.save_statevector()\n",
    "qobj = assemble(qc)\n",
    "final_state = svsim.run(qobj).result().get_statevector()\n",
    "# Print the statevector neatly:\n",
    "print(final_state)"
   ]
  },
  {
   "cell_type": "markdown",
   "id": "377dabb5",
   "metadata": {},
   "source": [
    "<img src=cnots2.png width =500/>"
   ]
  },
  {
   "cell_type": "code",
   "execution_count": 40,
   "id": "0a71e614",
   "metadata": {},
   "outputs": [
    {
     "data": {
      "text/html": [
       "<pre style=\"word-wrap: normal;white-space: pre;background: #fff0;line-height: 1.1;font-family: &quot;Courier New&quot;,Courier,monospace\">     ┌───┐     \n",
       "q_0: ┤ H ├──■──\n",
       "     └───┘┌─┴─┐\n",
       "q_1: ─────┤ X ├\n",
       "          └───┘</pre>"
      ],
      "text/plain": [
       "     ┌───┐     \n",
       "q_0: ┤ H ├──■──\n",
       "     └───┘┌─┴─┐\n",
       "q_1: ─────┤ X ├\n",
       "          └───┘"
      ]
     },
     "execution_count": 40,
     "metadata": {},
     "output_type": "execute_result"
    }
   ],
   "source": [
    "qc = QuantumCircuit(2)\n",
    "# Apply H-gate to the first:\n",
    "qc.h(0)\n",
    "# Apply a CNOT:\n",
    "qc.cx(0,1)\n",
    "qc.draw()"
   ]
  },
  {
   "cell_type": "code",
   "execution_count": 41,
   "id": "15ea9052",
   "metadata": {},
   "outputs": [
    {
     "name": "stdout",
     "output_type": "stream",
     "text": [
      "Statevector([0.70710678+0.j, 0.        +0.j, 0.        +0.j,\n",
      "             0.70710678+0.j],\n",
      "            dims=(2, 2))\n"
     ]
    }
   ],
   "source": [
    "# Let's get the result:\n",
    "qc.save_statevector()\n",
    "qobj = assemble(qc)\n",
    "result = svsim.run(qobj).result()\n",
    "# Print the statevector neatly:\n",
    "final_state = result.get_statevector()\n",
    "print(final_state)"
   ]
  },
  {
   "cell_type": "markdown",
   "id": "1e6120ac",
   "metadata": {},
   "source": [
    "<img src = cnotentangled.png width = 500/>"
   ]
  },
  {
   "cell_type": "code",
   "execution_count": 43,
   "id": "60c9c68f",
   "metadata": {},
   "outputs": [
    {
     "data": {
      "image/png": "[encoded data removed]",
      "text/plain": [
       "<Figure size 504x360 with 1 Axes>"
      ]
     },
     "execution_count": 43,
     "metadata": {},
     "output_type": "execute_result"
    }
   ],
   "source": [
    "plot_histogram(result.get_counts())\n"
   ]
  },
  {
   "cell_type": "markdown",
   "id": "84dacf3c",
   "metadata": {},
   "source": [
    "In the section above we saw the Bell entangled state that has a 50 percent probability of being 0 and 50 percent probability of being 1.This combined state cannot be written as two separate qubit states, which has interesting implications. Although our qubits are in superposition, measuring one will tell us the state of the other and collapse its superposition.\n",
    "\n",
    "Even if we separated these qubits light-years away, measuring one qubit collapses the superposition and appears to have an immediate effect on the other. This is the ‘spooky action at a distance’ that upset so many physicists in the early 20th century.\n",
    "\n",
    "It’s important to note that the measurement result is random, and the measurement statistics of one qubit are not affected by any operation on the other qubit. Because of this, there is no way to use shared quantum states to communicate. This is known as the no-communication theorem."
   ]
  },
  {
   "cell_type": "code",
   "execution_count": null,
   "id": "a81d970c",
   "metadata": {},
   "outputs": [],
   "source": []
  }
 ],
 "metadata": {
  "kernelspec": {
   "display_name": "Python 3",
   "language": "python",
   "name": "python3"
  },
  "language_info": {
   "codemirror_mode": {
    "name": "ipython",
    "version": 3
   },
   "file_extension": ".py",
   "mimetype": "text/x-python",
   "name": "python",
   "nbconvert_exporter": "python",
   "pygments_lexer": "ipython3",
   "version": "3.8.8"
  }
 },
 "nbformat": 4,
 "nbformat_minor": 5
}
