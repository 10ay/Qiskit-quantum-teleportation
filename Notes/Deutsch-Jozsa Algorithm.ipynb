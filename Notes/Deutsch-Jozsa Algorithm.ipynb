{
 "cells": [
  {
   "cell_type": "markdown",
   "id": "b8c41c9c",
   "metadata": {},
   "source": [
    "# The Detsch-Jozsa Problem\n",
    "\n",
    "We are given a hidden Boolean function <i>f</i>, which takes as input a string of bits and returns either 0 or 1, that is: \n",
    "\n",
    "$f({x_0, x_1, x_2, ...}) \\rightarrow$ $0$ or $1$, where $x_n$ is $0$ or $1$. The property of the given Boolean function is that it is guaranteed to either be balanced or constant. A constant function returns all 0's or all 1's for any input, while a balanced function returns 0's for exactly half of all inputs and 1's for the other half. \n",
    "\n",
    "Our task is to determine whether the given function is balanced or constant. \n"
   ]
  },
  {
   "cell_type": "markdown",
   "id": "7a9a8ba2",
   "metadata": {},
   "source": [
    "# The Classical Solution\n",
    "\n",
    "Classically, in the best case, two queries to the oracle can determine if hidden Boolean function, f(x) is balanced: e.g. if we both $f(0,0,0, ...) \\rightarrow 0$ and $f(1,0,0,...) \\rightarrow 1$ then we know the fnction is balanced as we have obtained the two different outputs. \n",
    "\n",
    "In the worst case, if we contine to see the same output for each input we try, we will have to check exactly half of all possible inputs plus one in order to be certain that $f(x)$ is constant. So \n",
    "\n",
    "\n",
    "$Total Trials = 2^{n-1}+1$\n",
    "\n",
    "Probability that a function is constant as a function of k inputs is:\n",
    "$P_{constant}(k) = 1 - \\frac{1}{2^{k-1}}$ for $1 < k \\le 2^{n-1}$\n",
    "\n",
    "The key problem here is that we do not have $100\\%$ confidence unless we do check for all $ 2^{n-1}+1$ trials."
   ]
  },
  {
   "attachments": {},
   "cell_type": "markdown",
   "id": "4ef0bf91",
   "metadata": {},
   "source": [
    "# The Quantum Solution\n",
    "\n",
    "\n",
    "Now with quantum computer, we can solve this problem with full confidence after only one call to the function $f(x)$, provided we have the function $f$ implemented as a quantum oracle, which maps the state $|x\\rangle |y\\rangle$ to $|x\\rangle|y \\oplus f(x)\\rangle$ where $\\oplus$ is ```addition modulo 2```.\n",
    "\n",
    "Here's the algorithm:\n",
    "\n",
    "<li> Prepare two quantum registers. The first is an n-qubit register initialised to $|0\\rangle$ and the second is a one-qubit register initialised to $1\\rangle$\n",
    "        <center>$|\\psi_0\\rangle = |0\\rangle^{\\otimes n}|1\\rangle$</center>\n",
    "    </li>\n",
    "    \n",
    "<li> Apply a Hadamard gate to each qubit\n",
    "        <center>$|\\psi_1\\rangle = \\frac{1}{\\sqrt{2^{n+1}}} \\sum \\limits_{x=0}^{2^n-1}|x\\rangle(|0\\rangle - |1\\rangle)$</center>\n",
    "    </li>\n",
    "    \n",
    "    \n",
    "<li> Apply Quantum oracle $|x\\rangle |y\\rangle$ to $|x\\rangle|y \\oplus f(x)\\rangle$:\n",
    "        <center>$|\\psi_1\\rangle = \\frac{1}{\\sqrt{2^{n+1}}} \\sum \\limits_{x=0}^{2^n-1}|x\\rangle(|f(x)\\rangle - |(1\\oplus f(x))\\rangle)=\\frac{1}{\\sqrt{2^{n+1}}} \\sum \\limits_{x=0}^{2^n-1}(-1)^{f(x)}|x\\rangle(|0\\rangle-|1\\rangle)$</center>\n",
    "    </li>\n",
    "    Since for each x, f(x) is 0 or 1\n",
    "    \n",
    "<li> At this point the second qubit register may be ignored. Apply a Hadamard gate to each qubit in the first register. \n",
    "<img src = \"quantumsol.png\" width =400 />\n",
    "</li>\n",
    "    \n",
    "    \n",
    "<li> Measure the first register. Notice that the probability of measring $|0\\rangle^{\\otimes n}=|\\frac{1}{2^n}\\sum (-1)^{f(x)}|^2$ which evaluates to 1 if f(x) is constant and 0 if f(x) is balanced.  \n",
    "    </li>\n",
    "    \n",
    "    \n",
    "<img src = \"deutsch.png\" width = 500/>"
   ]
  },
  {
   "cell_type": "markdown",
   "id": "69ba3d93",
   "metadata": {},
   "source": [
    "# How it works\n",
    "\n",
    "### Constant Oracle\n",
    "\n",
    "When the oracle is constant, it has no effect on the input qubits, and the quantum states before and after querying the oracle are the same. Since the H-gate is its own inverse, in Step 4, we reverse Step 2 to obtain the initial quantum state of $|00...0\\rangle$ in the first register.\n",
    "\n",
    "<img src = \"constant.png\" width = 400/>\n",
    "\n",
    "### Balanced Oracle\n",
    "\n",
    "After step 2, or input register is an equal superposition of all the states in the computational basis. When the oracle is balanced, phase kickback adds a negative phase to exactly half these states.\n",
    "\n",
    "<img src = \"balanced.png\" width = 400/>\n",
    "\n",
    "The quantum state after querying the oracle is orthogonal to the quantum state before querying the oracle. Thus in step 4, when applying the H-gates, we must eng with a quantum state that is orthogonal to $|00..0\\rangle$. This means thatwe shold never measure the all-zero state."
   ]
  },
  {
   "cell_type": "code",
   "execution_count": null,
   "id": "ef0825b1",
   "metadata": {},
   "outputs": [],
   "source": []
  }
 ],
 "metadata": {
  "kernelspec": {
   "display_name": "Python 3",
   "language": "python",
   "name": "python3"
  },
  "language_info": {
   "codemirror_mode": {
    "name": "ipython",
    "version": 3
   },
   "file_extension": ".py",
   "mimetype": "text/x-python",
   "name": "python",
   "nbconvert_exporter": "python",
   "pygments_lexer": "ipython3",
   "version": "3.8.8"
  }
 },
 "nbformat": 4,
 "nbformat_minor": 5
}
